{
 "cells": [
  {
   "cell_type": "markdown",
   "id": "9c57f7dc",
   "metadata": {},
   "source": [
    "# Convolutioneel Neural Network\n",
    "*Door: Luuk Bouwman - 1759898*\n",
    "\n",
    "Klas: V2A"
   ]
  },
  {
   "cell_type": "markdown",
   "id": "0988b95e",
   "metadata": {},
   "source": [
    "## Voorbereiding"
   ]
  },
  {
   "cell_type": "code",
   "execution_count": null,
   "id": "fb8db6c7",
   "metadata": {},
   "outputs": [],
   "source": [
    "import tensorflow as tf\n",
    "\n",
    "import numpy as np\n",
    "import matplotlib.pyplot as plt\n",
    "import timeit\n",
    "from sklearn.metrics import confusion_matrix, classification_report\n",
    "from tensorflow import keras\n",
    "from tensorflow.keras.layers import Input, Conv2D, Dense, Flatten, Dropout, Activation\n",
    "from tensorflow.keras.layers import GlobalMaxPooling2D, MaxPooling2D\n",
    "from tensorflow.keras.layers import BatchNormalization\n",
    "from tensorflow.keras.optimizers import SGD, Adam, schedules\n",
    "from tensorflow.keras.models import Model, Sequential\n",
    "from tensorflow.keras import utils  \n",
    "from keras.regularizers import L1"
   ]
  },
  {
   "cell_type": "markdown",
   "id": "ae56dbb9",
   "metadata": {},
   "source": [
    "## Data Preparation"
   ]
  },
  {
   "cell_type": "code",
   "execution_count": null,
   "id": "2df9a5fa",
   "metadata": {},
   "outputs": [],
   "source": [
    "# Data inladen\n",
    "cifar10 = tf.keras.datasets.cifar10\n",
    "\n",
    "(x_train, y_train), (x_test, y_test) = cifar10.load_data()\n",
    "\n",
    "print(\"X_train shape\", x_train.shape)\n",
    "print(\"y_train shape\", y_train.shape)\n",
    "print(\"X_test shape\", x_test.shape)\n",
    "print(\"y_test shape\", y_test.shape)"
   ]
  },
  {
   "cell_type": "markdown",
   "id": "1969bd96",
   "metadata": {},
   "source": [
    "#### Visualize data"
   ]
  },
  {
   "cell_type": "code",
   "execution_count": null,
   "id": "4cded9f1",
   "metadata": {},
   "outputs": [],
   "source": [
    "# plot afbeeldingen\n",
    "fig, ax = plt.subplots(5, 5)\n",
    "k = 0\n",
    " \n",
    "for i in range(5):\n",
    "    for j in range(5):\n",
    "        ax[i][j].imshow(x_train[k], aspect='auto')\n",
    "        k += 1\n",
    " \n",
    "plt.show()"
   ]
  },
  {
   "cell_type": "code",
   "execution_count": null,
   "id": "87fdffb5",
   "metadata": {},
   "outputs": [],
   "source": [
    "x_head, *tail = x_train\n",
    "y_head, *tail = y_train"
   ]
  },
  {
   "cell_type": "code",
   "execution_count": null,
   "id": "e10fad2c",
   "metadata": {
    "scrolled": true
   },
   "outputs": [],
   "source": [
    "x_head"
   ]
  },
  {
   "cell_type": "markdown",
   "id": "0b840622",
   "metadata": {},
   "source": [
    "De shape van de data is 32 x 32 x 3. Waarbij de 32 x 32 het aantal pixels aangeeft en de 3 voor de RGB waardes tussen 0 en 255."
   ]
  },
  {
   "cell_type": "code",
   "execution_count": null,
   "id": "eaea78e4",
   "metadata": {},
   "outputs": [],
   "source": [
    "y_head"
   ]
  },
  {
   "cell_type": "markdown",
   "id": "8e78b81b",
   "metadata": {},
   "source": [
    "Zoals je ziet is de target head een getal. Elk getal staat voor een ander dier of vervoersmiddel.\n",
    "- 0: vliegtuig\n",
    "- 1: auto\n",
    "- 2: vogel\n",
    "- 3: kat\n",
    "- 4: hert\n",
    "- 5: hond\n",
    "- 6: kikker\n",
    "- 7: paard\n",
    "- 8: boot\n",
    "- 9: vrachtwagen\n",
    "\n",
    "Dus `x_head` zijn alle pixelwaardes (veranderd naar een getal tussen 0 en 1) van een kikker."
   ]
  },
  {
   "cell_type": "code",
   "execution_count": null,
   "id": "386d08c8",
   "metadata": {},
   "outputs": [],
   "source": [
    "plt.imshow(x_head, aspect='auto')"
   ]
  },
  {
   "cell_type": "markdown",
   "id": "2fb2d748",
   "metadata": {},
   "source": [
    "### Features"
   ]
  },
  {
   "cell_type": "code",
   "execution_count": null,
   "id": "2c791a5c",
   "metadata": {},
   "outputs": [],
   "source": [
    "# datatype aanpassen\n",
    "\n",
    "x_train = x_train.astype(np.float32) \n",
    "x_test = x_test.astype(np.float32)"
   ]
  },
  {
   "cell_type": "code",
   "execution_count": null,
   "id": "2f2624c7",
   "metadata": {},
   "outputs": [],
   "source": [
    "# deel pixel waardes door 255 zodat deze tussen 0 en 1 zitten\n",
    "x_train, x_test = x_train / 255, x_test / 255"
   ]
  },
  {
   "cell_type": "markdown",
   "id": "a2d9371c",
   "metadata": {},
   "source": [
    "### Targets"
   ]
  },
  {
   "cell_type": "code",
   "execution_count": null,
   "id": "a4e9e2b5",
   "metadata": {},
   "outputs": [],
   "source": [
    "# flatten de label values\n",
    "y_train, y_test = y_train.flatten(), y_test.flatten()"
   ]
  },
  {
   "cell_type": "code",
   "execution_count": null,
   "id": "03eff15d",
   "metadata": {},
   "outputs": [],
   "source": [
    "y_train[:5]"
   ]
  },
  {
   "cell_type": "markdown",
   "id": "04ab867d",
   "metadata": {},
   "source": [
    "#### Lees verder tot Baseline model Compiler"
   ]
  },
  {
   "cell_type": "code",
   "execution_count": null,
   "id": "03bc56b0",
   "metadata": {},
   "outputs": [],
   "source": [
    "# # number of classes\n",
    "# K = len(set(y_train))\n",
    "\n",
    "# print(\"number of classes:\", K)\n",
    "\n",
    "# y_train = utils.to_categorical(y_train, K)\n",
    "# y_test = utils.to_categorical(y_test, K)\n",
    "\n",
    "# print(f\"Y_train: {y_train.shape}, Y_test: {y_test.shape}\")"
   ]
  },
  {
   "cell_type": "code",
   "execution_count": null,
   "id": "b21775ea",
   "metadata": {},
   "outputs": [],
   "source": [
    "def dummies():\n",
    "    k = len(set(y_train)) # aantal classes\n",
    "    y_train = utils.to_categorical(y_train, k)\n",
    "    y_train = utils.to_categorical(y_train, k)\n",
    "    print(y_train.shape(), y_test.shape())"
   ]
  },
  {
   "cell_type": "code",
   "execution_count": null,
   "id": "94ed3a08",
   "metadata": {},
   "outputs": [],
   "source": [
    "# dummies()"
   ]
  },
  {
   "cell_type": "markdown",
   "id": "3a5479a6",
   "metadata": {},
   "source": [
    "## Baseline model\n",
    "We starten met een baseline model om een accuracy score te vinden die verbeterd moet worden.\n",
    "\n",
    "We gebruiken hiervoor de architectuur die Nielsen gebruikt heeft in een eerdere MNIST opdracht."
   ]
  },
  {
   "cell_type": "code",
   "execution_count": null,
   "id": "a8a77304",
   "metadata": {},
   "outputs": [],
   "source": [
    "baseline = Sequential([\n",
    "    Flatten(input_shape=(32,32,3)), # maakt er 1d array van\n",
    "    Dense(512, activation=\"sigmoid\"), # past de sigmoid functie: sigmoid(input) = 1 / (1 + exp(-input))\n",
    "    Dropout(0.2), # onder 0.2 => 0 en boven 0.2 => 1 (Tegen overfitting)\n",
    "    Dense(512, activation=\"sigmoid\"),\n",
    "    Dropout(0.2),\n",
    "    Dense(10, activation=\"softmax\"), # alle getallen worden veranderd zodat ze gezamelijk 1 en zijn en niet negatief\n",
    "                                     # kan gebruikt worden als kansverdeling\n",
    "])"
   ]
  },
  {
   "cell_type": "markdown",
   "id": "08ce6585",
   "metadata": {},
   "source": [
    "### Compiler\n",
    "Bij de compiler zijn er meerdere hyperparameters om te kiezen. \n",
    "_(SGD, RMSprop, Adam, Adadelta, Adagrad, Adamax, Nadam, Ftrl)_\n",
    "\n",
    "SGD is een goede optie aangezien dit een 'Gradient descent' optimizer is. (Met een standaard momentum van 0)\n",
    "Hier gebruikt de architectuur Nielsen de 'Adam' optimizer dus zullen wij dit ook doen.\n",
    "De Adam optimizer is een soort willekeurige kansverdeling gradient descent methode op de veranderende schattingen.\n",
    "\n",
    "Verder kan je de loss functie kiezen. _(sparse_categorical_crossentropy OR categorical_crossentropy)_\n",
    "Gebruik `sparse_categorical_crossentropy` op het moment dat de target al genummerd geclassificeerd is in een 1d array.\n",
    "of gebruik `categorical_crossentropy` als je de target hebt om gezet naar een 2d (_ x 10) array als een soort 'git_dummies()' dit gebeurd bij `dummies()`."
   ]
  },
  {
   "cell_type": "code",
   "execution_count": null,
   "id": "040b11f1",
   "metadata": {},
   "outputs": [],
   "source": [
    "baseline.compile(optimizer=\"Adam\", # met standaard learning rate van 0.001\n",
    "                loss=\"sparse_categorical_crossentropy\", # sparse_categorical_crossentropy OR categorical_crossentropy\n",
    "                metrics=[\"accuracy\"])"
   ]
  },
  {
   "cell_type": "markdown",
   "id": "b8860e24",
   "metadata": {},
   "source": [
    "#### Fitting\n",
    "Train het model"
   ]
  },
  {
   "cell_type": "code",
   "execution_count": null,
   "id": "6c35758c",
   "metadata": {},
   "outputs": [],
   "source": [
    "baseline_history = baseline.fit(x_train, y_train, batch_size=128, epochs=5, verbose=1, validation_split = 0.2)"
   ]
  },
  {
   "cell_type": "code",
   "execution_count": null,
   "id": "afafe9b8",
   "metadata": {},
   "outputs": [],
   "source": [
    "baseline.evaluate(x_test, y_test)"
   ]
  },
  {
   "cell_type": "code",
   "execution_count": null,
   "id": "0d05822d",
   "metadata": {},
   "outputs": [],
   "source": [
    "y_pred = baseline.predict(x_test)\n",
    "y_pred_classes = [np.argmax(element) for element in y_pred]\n",
    "\n",
    "print(classification_report(y_test, y_pred_classes))"
   ]
  },
  {
   "cell_type": "markdown",
   "id": "4a72e21d",
   "metadata": {},
   "source": [
    "Hier zie je de:\n",
    "- __Precision__ *(Precisie van dat het model de juiste soort heeft gekozen)*\n",
    "- __Recall__ *(Het percentage van correct geclassificeerde van alle instanties die daadwerkelijk positief waren)*\n",
    "- __F1-score__ *(De F1-score is een gewogen gemiddelde van precision en recall. In het algemeen zijn F1-scores lager dan accuracy omdat ze precision en herinnering beide in de berekingen worden opgenomen)*\n",
    "- __Support__ *(Het daadwerkelijke aantal verschijningen in de dataset)*\n",
    "- __Accuracy__ *(Het percentage dat het model de juiste soort kiest)*"
   ]
  },
  {
   "cell_type": "code",
   "execution_count": null,
   "id": "cc943b23",
   "metadata": {},
   "outputs": [],
   "source": [
    "# history van accuracy\n",
    "plt.plot(baseline_history.history['accuracy'])\n",
    "plt.title('model accuracy')\n",
    "plt.ylabel('accuracy')\n",
    "plt.xlabel('epoch')\n",
    "plt.show()"
   ]
  },
  {
   "cell_type": "code",
   "execution_count": null,
   "id": "1da0d5c5",
   "metadata": {},
   "outputs": [],
   "source": [
    "# history van loss\n",
    "plt.plot(baseline_history.history['loss'])\n",
    "plt.title('model loss')\n",
    "plt.ylabel('loss')\n",
    "plt.xlabel('epoch')\n",
    "plt.show()"
   ]
  },
  {
   "cell_type": "markdown",
   "id": "7dfa134d",
   "metadata": {},
   "source": [
    "## Modellen"
   ]
  },
  {
   "cell_type": "markdown",
   "id": "e4a0504c",
   "metadata": {},
   "source": [
    "### ReLU en Pooling\n",
    "Nadat we de baseline hebben gaan we het proberen te verbeteren door middel van meerdere Convolution, ReLU en pooling layers toe te voegen om er een echt CNN van te maken."
   ]
  },
  {
   "cell_type": "markdown",
   "id": "cea5d477",
   "metadata": {},
   "source": [
    "#### ReLU\n",
    "ReLU zorgd er voor dat alle getallen onder de 0 worden vervangen door 0.\n",
    "ReLu wordt vooral gebruikt omdat het eenvoudig, snel en goed lijkt te werken.\n",
    "Het schijnt namelijk dat het trainen van een netwerk met ReLu in het algemeen veel sneller en betrouwbaarder trainde dan het trainen van een netwerk met sigmoid activatie."
   ]
  },
  {
   "cell_type": "markdown",
   "id": "b4ad09b6",
   "metadata": {},
   "source": [
    "#### Pooling\n",
    "Maakt de afbeelding kleiner door de hoogste waarde van de pool te nemen als representatie voor alle waardes in de pool.\n",
    "Zo verklein je de hoeveelheid data en train je in het algemeen veel sneller."
   ]
  },
  {
   "cell_type": "code",
   "execution_count": null,
   "id": "084a570e",
   "metadata": {
    "scrolled": true
   },
   "outputs": [],
   "source": [
    "basic_cnn = Sequential([\n",
    "    Conv2D(filters=16, activation=\"relu\", kernel_size=(3,3), input_shape=(32, 32, 3)), # filters=16, kernel_size: grote van filter\n",
    "    MaxPooling2D((2,2)),\n",
    "    Conv2D(filters=32, activation=\"relu\", kernel_size=(3,3), input_shape=(32, 32, 3)),\n",
    "    MaxPooling2D((2,2)),\n",
    "    \n",
    "    Flatten(),\n",
    "    Dense(64, activation=\"relu\"),\n",
    "    Dense(10, activation=\"softmax\")\n",
    "])"
   ]
  },
  {
   "cell_type": "markdown",
   "id": "33a65cde",
   "metadata": {},
   "source": [
    "Let op dat ik hier voor de SGD (gradient decent) optimizer ben gegaan."
   ]
  },
  {
   "cell_type": "code",
   "execution_count": null,
   "id": "ed54750b",
   "metadata": {},
   "outputs": [],
   "source": [
    "basic_cnn.compile(optimizer=\"SGD\", loss=\"sparse_categorical_crossentropy\", metrics=[\"accuracy\"])"
   ]
  },
  {
   "cell_type": "code",
   "execution_count": null,
   "id": "511117be",
   "metadata": {},
   "outputs": [],
   "source": [
    "basic_cnn.fit(x_train, y_train)"
   ]
  },
  {
   "cell_type": "code",
   "execution_count": null,
   "id": "6f22b2eb",
   "metadata": {},
   "outputs": [],
   "source": [
    "basic_cnn.evaluate(x_test, y_test)"
   ]
  },
  {
   "cell_type": "markdown",
   "id": "4c838292",
   "metadata": {},
   "source": [
    "Hier zie je hoe het na 1 epoch al een enorm voordeel is om deze layers te gebruiken."
   ]
  },
  {
   "attachments": {
    "image.png": {
     "image/png": "[encoded data removed]"
    }
   },
   "cell_type": "markdown",
   "id": "7c2d68da",
   "metadata": {},
   "source": [
    "#### Batchsize\n",
    "Batchsize is het aantal samples die het netwerk per keer traint voor het de volgende batch neemt.\n",
    "##### Voordelen:\n",
    "- Het kost minder memory om met batches te trainen.\n",
    "- het netwerkt traint sneller met kleine batches.\n",
    "##### Nadelen:\n",
    "- Hoe kleiner de batch how minder accuraat het netwerkt zal zijn.\n",
    "![image.png](attachment:image.png)\n",
    "_'Stochastic' is een batch van 1._"
   ]
  },
  {
   "cell_type": "code",
   "execution_count": null,
   "id": "12908b7f",
   "metadata": {},
   "outputs": [],
   "source": [
    "# pas batch_size aan naar voorkeur\n",
    "batch_size= 1028"
   ]
  },
  {
   "cell_type": "code",
   "execution_count": null,
   "id": "0b0e553e",
   "metadata": {},
   "outputs": [],
   "source": [
    "starttime = timeit.default_timer()\n",
    "history = basic_cnn.fit(x_train, y_train, batch_size= 1028, epochs=1)\n",
    "print(\"De tijd het duurde met batch size (\", batch_size, \") is:\", timeit.default_timer() - starttime)"
   ]
  },
  {
   "cell_type": "markdown",
   "id": "5b9d1dd0",
   "metadata": {},
   "source": [
    "Uit het onderzoek met verschillende batch sizes als: 1, 16, 32, 64, 128, 256 en geen size. Heb ik er voor gekozen gebruik te maken van een batchsize van 128."
   ]
  },
  {
   "cell_type": "markdown",
   "id": "4e752231",
   "metadata": {},
   "source": [
    "### Weight decay\n",
    "Weight decay is een goede mannier om overfitting tegen te gaan.\n",
    "Het zorgt er voor dat je een penalty kan toevoegen voor de weight size ten opzichte van de loss function.\n",
    "Onder de keras regularizers zijn er 3 weight regularizers:\n",
    "- L1: Som van de absolute weights.\n",
    "- L2: Som van de gekwadrateerde weights.\n",
    "- L1L2: Som van de absolute en de gekwadrateerde weights.\n",
    "\n",
    "Hieronder heb ik gekozen gebruik te maken van L1"
   ]
  },
  {
   "cell_type": "code",
   "execution_count": null,
   "id": "d46217bb",
   "metadata": {},
   "outputs": [],
   "source": [
    "decay = 0.0005 # 0.0005"
   ]
  },
  {
   "cell_type": "code",
   "execution_count": null,
   "id": "1733bceb",
   "metadata": {},
   "outputs": [],
   "source": [
    "cnn = Sequential([\n",
    "    Conv2D(filters=16, activation=\"relu\", kernel_size=(3,3), kernel_regularizer=L1(decay), input_shape=(32, 32, 3)),\n",
    "    MaxPooling2D((2,2)),\n",
    "    Conv2D(filters=32, activation=\"relu\", kernel_size=(3,3), input_shape=(32, 32, 3)),\n",
    "    MaxPooling2D((2,2)),\n",
    "    \n",
    "    Flatten(),\n",
    "    Dense(64, activation=\"relu\"),\n",
    "    Dense(64, activation=\"relu\"),\n",
    "    Dense(10, activation=\"softmax\")\n",
    "])"
   ]
  },
  {
   "cell_type": "markdown",
   "id": "e335aa1c",
   "metadata": {},
   "source": [
    "Bij deze optimizer zou ik eerst SGD kiezen. waarna ik zag hoeveel sneller Adam was en die toch koos."
   ]
  },
  {
   "cell_type": "code",
   "execution_count": null,
   "id": "693dc318",
   "metadata": {},
   "outputs": [],
   "source": [
    "cnn.compile(optimizer=\"adam\", loss=\"sparse_categorical_crossentropy\", metrics=[\"accuracy\"])"
   ]
  },
  {
   "cell_type": "code",
   "execution_count": null,
   "id": "4585d3eb",
   "metadata": {},
   "outputs": [],
   "source": [
    "cnn.summary()"
   ]
  },
  {
   "cell_type": "code",
   "execution_count": null,
   "id": "9962cc2f",
   "metadata": {},
   "outputs": [],
   "source": [
    "history = cnn.fit(x_train, y_train, epochs = 10)"
   ]
  },
  {
   "cell_type": "code",
   "execution_count": null,
   "id": "7e9bf5a8",
   "metadata": {},
   "outputs": [],
   "source": [
    "# history van accuracy\n",
    "plt.plot(baseline_history.history['accuracy'])\n",
    "plt.plot(baseline_history.history['loss'])\n",
    "plt.title('model accuracy & loss')\n",
    "plt.xlabel('epoch')\n",
    "plt.legend(['accuracy', 'loss'], loc='upper left')\n",
    "plt.show()"
   ]
  },
  {
   "cell_type": "markdown",
   "id": "064e0b52",
   "metadata": {},
   "source": [
    "_accuracy kan niet boven de 1 aangezien dit meer dan 100% zou zijn_ "
   ]
  },
  {
   "cell_type": "code",
   "execution_count": null,
   "id": "cae6b28f",
   "metadata": {},
   "outputs": [],
   "source": [
    "y_pred = cnn.predict(x_test)\n",
    "y_pred_classes = [np.argmax(element) for element in y_pred]\n",
    "\n",
    "print(classification_report(y_test, y_pred_classes))"
   ]
  },
  {
   "cell_type": "markdown",
   "id": "24ab2515",
   "metadata": {},
   "source": [
    "## Conclusie"
   ]
  },
  {
   "cell_type": "markdown",
   "id": "790ee89d",
   "metadata": {},
   "source": [
    "De qualiteit van het uiteindelijke model is vrij hoog. Aangezien het basicmodel na 1 epoch al een beter resultaat behaald dan het baseline model na 5. Alleen in dit opzichte is het al een beter model. Echter heb ik het model nog niet lang genoeg laten runnen om 90+ accuraccy te halen. Ondanks dat dit zeker mogelijk zal zijn. Voor het geval dat iemand het model wel lang zou laten trainen heb ik dingen als normalisatie en weight decay toegevoegd om overfitting tegen te gaan."
   ]
  },
  {
   "cell_type": "markdown",
   "id": "4f3f88ab",
   "metadata": {},
   "source": [
    "Aangezien we het model op een train set hebben gefit en het nu ook bij de test set ook hoog scored is er geen geval van overfitting."
   ]
  },
  {
   "cell_type": "code",
   "execution_count": null,
   "id": "c8cf75cd",
   "metadata": {},
   "outputs": [],
   "source": [
    "cnn.evaluate(x_test, y_test)"
   ]
  },
  {
   "cell_type": "markdown",
   "id": "b127e9cf",
   "metadata": {},
   "source": []
  }
 ],
 "metadata": {
  "kernelspec": {
   "display_name": "Python 3 (ipykernel)",
   "language": "python",
   "name": "python3"
  },
  "language_info": {
   "codemirror_mode": {
    "name": "ipython",
    "version": 3
   },
   "file_extension": ".py",
   "mimetype": "text/x-python",
   "name": "python",
   "nbconvert_exporter": "python",
   "pygments_lexer": "ipython3",
   "version": "3.8.12"
  }
 },
 "nbformat": 4,
 "nbformat_minor": 5
}
